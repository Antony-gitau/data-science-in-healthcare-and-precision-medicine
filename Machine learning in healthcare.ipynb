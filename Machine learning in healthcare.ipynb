{
  "cells": [
    {
      "cell_type": "code",
      "source": [
        "from google.colab import drive\n",
        "drive.mount(\"/content/drive\")"
      ],
      "metadata": {
        "id": "4z82aASeno1-",
        "outputId": "9ef8c106-11d5-4b22-d735-6b7892b14198",
        "colab": {
          "base_uri": "https://localhost:8080/"
        }
      },
      "execution_count": 1,
      "outputs": [
        {
          "output_type": "stream",
          "name": "stdout",
          "text": [
            "Mounted at /content/drive\n"
          ]
        }
      ]
    },
    {
      "cell_type": "markdown",
      "metadata": {
        "id": "p5Ch7cVznk4Z"
      },
      "source": [
        "# Machine Learning Task"
      ]
    },
    {
      "cell_type": "markdown",
      "metadata": {
        "id": "pAGU67xank4c"
      },
      "source": [
        "In this programming task, we'll try our hand at supervised learning. We'll work with a simple dataset and we'll build, evaluate and use two different machine learning models.<br><br>\n",
        "The dataset that we're going to be using in this programming task is from the botany domain, so it has to do with plants. Note that in this week's Programming Assignment you'll get to work with medical data!"
      ]
    },
    {
      "cell_type": "markdown",
      "metadata": {
        "id": "8q42T9DInk4e"
      },
      "source": [
        "## Part 1: Importing _scikit-learn_"
      ]
    },
    {
      "cell_type": "markdown",
      "metadata": {
        "id": "PwoeYz-Ank4g"
      },
      "source": [
        "_scikit-learn_ is the most widely used Python library for machine learning. \n",
        "We first need to tell Python that we're going to be using scikit-learn, with the use of the import command."
      ]
    },
    {
      "cell_type": "code",
      "execution_count": null,
      "metadata": {
        "id": "3_oDC6zenk4h"
      },
      "outputs": [],
      "source": [
        "import sklearn"
      ]
    },
    {
      "cell_type": "markdown",
      "metadata": {
        "id": "i4bL_mRhnk4j"
      },
      "source": [
        "<br>\n",
        "## Part 2: Familiarising ourselves with the data"
      ]
    },
    {
      "cell_type": "markdown",
      "metadata": {
        "id": "8YVs1PMUnk4j"
      },
      "source": [
        "### Loading the data"
      ]
    },
    {
      "cell_type": "markdown",
      "metadata": {
        "id": "Vg3971iqnk4k"
      },
      "source": [
        "scikit-learn comes with a few small standard datasets that do not require to download and to read data from external websites. In this programming task, we are going to be using the **Iris Plants Dataset**. This dataset contains information about different iris flowers, i.e. sepal length, sepal width, petal length, petal width and species (with three possible values for species: setosa, versicolor and virginica). <br><br>\n",
        "The iris dataset is typically used for supervised learning tasks, and in particular for classification. The idea is that we have measurements (i.e. sepal length, sepal width, petal length and petal width) for which we know the correct species. So if we go out in nature and find some iris flowers and measure their sepal length, sepal width, petal length and petal width, then we can use the iris dataset to predict which species each flower belongs to. Nice, ha? And since there are three possible values for the iris species, it's a classification task.<br>"
      ]
    },
    {
      "cell_type": "markdown",
      "metadata": {
        "id": "zU9f5IJPnk4k"
      },
      "source": [
        "Let's load the dataset with the use of the *load_iris* function. We'll call it *iris_dataset* (but you could call it anything you want)."
      ]
    },
    {
      "cell_type": "code",
      "execution_count": null,
      "metadata": {
        "id": "4pNCjyWqnk4l"
      },
      "outputs": [],
      "source": [
        "from sklearn.datasets import load_iris\n",
        "iris_dataset = load_iris()"
      ]
    },
    {
      "cell_type": "markdown",
      "metadata": {
        "id": "iHzNSCrknk4l"
      },
      "source": [
        "### Getting a sense of the data"
      ]
    },
    {
      "cell_type": "markdown",
      "metadata": {
        "id": "2cPz6Q8Ynk4m"
      },
      "source": [
        "The *iris_dataset* object that is returned by *load_iris* is a *Bunch* object, which contains some information about the dataset, as well as the actual data.\n",
        "Bunch objects are very similar to dictionaries (we were introduced to dictionaries in Week 1) and they contain keys and values."
      ]
    },
    {
      "cell_type": "markdown",
      "metadata": {
        "id": "FYJ37hWrnk4m"
      },
      "source": [
        "Run the code below to print the keys."
      ]
    },
    {
      "cell_type": "code",
      "execution_count": null,
      "metadata": {
        "id": "-nXSnAShnk4n",
        "outputId": "48044c3c-e178-4a0e-aa8a-dce980a25c95"
      },
      "outputs": [
        {
          "name": "stdout",
          "output_type": "stream",
          "text": [
            "Keys of iris_dataset:  dict_keys(['data', 'target', 'frame', 'target_names', 'DESCR', 'feature_names', 'filename', 'data_module'])\n"
          ]
        }
      ],
      "source": [
        "print(\"Keys of iris_dataset: \", iris_dataset.keys())"
      ]
    },
    {
      "cell_type": "markdown",
      "metadata": {
        "id": "Y1ccVxixnk4o"
      },
      "source": [
        "There are five types of information in the dataset:\n",
        "* DESCR\n",
        "* feature_names\n",
        "* target_names\n",
        "* data\n",
        "* target"
      ]
    },
    {
      "cell_type": "markdown",
      "metadata": {
        "id": "y7ePhzvBnk4o"
      },
      "source": [
        "Let's have a closer look at each one of them."
      ]
    },
    {
      "cell_type": "markdown",
      "metadata": {
        "id": "l8UMHYuxnk4p"
      },
      "source": [
        "_DESCR_ is a short description of the dataset. Run the code below to get an extract of the first 200 characters. If you want to get a bigger extract, all you need to do is change *200* to a larger number."
      ]
    },
    {
      "cell_type": "code",
      "execution_count": null,
      "metadata": {
        "scrolled": true,
        "id": "Jqlua4BLnk4p",
        "outputId": "503e5b4e-09ad-47a7-8796-8eeeab216423"
      },
      "outputs": [
        {
          "name": "stdout",
          "output_type": "stream",
          "text": [
            ".. _iris_dataset:\n",
            "\n",
            "Iris plants dataset\n",
            "--------------------\n",
            "\n",
            "**Data Set Characteristics:**\n",
            "\n",
            "    :Number of Instances: 150 (50 in each of three classes)\n",
            "    :Number of Attributes: 4 numeric, predictive\n",
            ".......\n"
          ]
        }
      ],
      "source": [
        "print(iris_dataset['DESCR'][:200] + \"\\n.......\")"
      ]
    },
    {
      "cell_type": "markdown",
      "metadata": {
        "id": "LXxnb_MFnk4p"
      },
      "source": [
        "*feature_names* corresponds to the names of all the features in the dataset, in other words all the variables that we take into account when building our machine learning model.\n",
        "Run the code below to print the names of all features."
      ]
    },
    {
      "cell_type": "code",
      "execution_count": null,
      "metadata": {
        "id": "hwqiJs9znk4p",
        "outputId": "c814b9f6-3933-46e6-bffb-55aeea429266"
      },
      "outputs": [
        {
          "name": "stdout",
          "output_type": "stream",
          "text": [
            "Feature names:  ['sepal length (cm)', 'sepal width (cm)', 'petal length (cm)', 'petal width (cm)']\n"
          ]
        }
      ],
      "source": [
        "print(\"Feature names: \", iris_dataset['feature_names'])"
      ]
    },
    {
      "cell_type": "markdown",
      "metadata": {
        "id": "X7D6o3lunk4p"
      },
      "source": [
        "*target_names* corresponds to the class labels.\n",
        "By running the code below, we can see that there are three class labels: 'setosa', 'versicolor' and 'virginica'."
      ]
    },
    {
      "cell_type": "code",
      "execution_count": null,
      "metadata": {
        "id": "bEYI4Rbznk4q",
        "outputId": "128ea6df-311b-49e9-cc50-d75e82d897d4"
      },
      "outputs": [
        {
          "name": "stdout",
          "output_type": "stream",
          "text": [
            "Target names:  ['setosa' 'versicolor' 'virginica']\n"
          ]
        }
      ],
      "source": [
        "print(\"Target names: \", iris_dataset['target_names'])"
      ]
    },
    {
      "cell_type": "markdown",
      "metadata": {
        "id": "28f5kyJ8nk4q"
      },
      "source": [
        "The actual data is contained in the *data* and *target* fields. \n",
        "*data* contains the values for the different features, e.g. sepal length."
      ]
    },
    {
      "cell_type": "markdown",
      "metadata": {
        "id": "rvQsBCQRnk4q"
      },
      "source": [
        "Run the code in the next cell to get the shape of *data*."
      ]
    },
    {
      "cell_type": "code",
      "execution_count": null,
      "metadata": {
        "id": "FBlLWfnAnk4q",
        "outputId": "30ea51d3-df4e-448b-ea8f-ddcb8886983c"
      },
      "outputs": [
        {
          "name": "stdout",
          "output_type": "stream",
          "text": [
            "(150, 4)\n"
          ]
        }
      ],
      "source": [
        "print(iris_dataset['data'].shape)"
      ]
    },
    {
      "cell_type": "markdown",
      "metadata": {
        "id": "FtPPFwVbnk4r"
      },
      "source": [
        "We can see that we have data for 150 iris flowers. For each flower case we have 4 features."
      ]
    },
    {
      "cell_type": "markdown",
      "metadata": {
        "id": "Iif-y9jEnk4r"
      },
      "source": [
        "Run the code in the next cell to get the first three rows in *data*."
      ]
    },
    {
      "cell_type": "code",
      "execution_count": null,
      "metadata": {
        "id": "VAuSA7lbnk4r",
        "outputId": "762d006b-f47a-4458-ae05-52c0a767d20b"
      },
      "outputs": [
        {
          "name": "stdout",
          "output_type": "stream",
          "text": [
            "First three rows of data:\n",
            " [[5.1 3.5 1.4 0.2]\n",
            " [4.9 3.  1.4 0.2]\n",
            " [4.7 3.2 1.3 0.2]]\n"
          ]
        }
      ],
      "source": [
        "print(\"First three rows of data:\\n\", iris_dataset['data'][:3])"
      ]
    },
    {
      "cell_type": "markdown",
      "metadata": {
        "id": "FRj0-z6lnk4r"
      },
      "source": [
        "According to this output, we get the following values for the first flower:\n",
        "* sepal length (cm): 5.1 \n",
        "* sepal width (cm): 3.5\n",
        "* petal length (cm): 1.4\n",
        "* petal width (cm): 0.2"
      ]
    },
    {
      "cell_type": "markdown",
      "metadata": {
        "id": "JI31zBOYnk4r"
      },
      "source": [
        "**Small challenge**: What if you wanted to get the first 6 rows of data? Write your code below and run it!"
      ]
    },
    {
      "cell_type": "code",
      "execution_count": null,
      "metadata": {
        "id": "Hej8WwDJnk4s",
        "outputId": "0f2450cc-6241-47e4-89a8-a8c0beb46fde"
      },
      "outputs": [
        {
          "name": "stdout",
          "output_type": "stream",
          "text": [
            "Six row of the data:\n",
            " [[5.1 3.5 1.4 0.2]\n",
            " [4.9 3.  1.4 0.2]\n",
            " [4.7 3.2 1.3 0.2]\n",
            " [4.6 3.1 1.5 0.2]\n",
            " [5.  3.6 1.4 0.2]\n",
            " [5.4 3.9 1.7 0.4]]\n"
          ]
        }
      ],
      "source": [
        "# your code goes here\n",
        "print(\"Six row of the data:\\n\", iris_dataset['data'][:6])"
      ]
    },
    {
      "cell_type": "markdown",
      "metadata": {
        "id": "n0OdkC5rnk4s"
      },
      "source": [
        "Run the code in the next two cells to get the shape of *target* and the first two elements."
      ]
    },
    {
      "cell_type": "code",
      "execution_count": null,
      "metadata": {
        "id": "hK3bpG0onk4s",
        "outputId": "3b157163-4429-40c4-cdb6-503fa469c130"
      },
      "outputs": [
        {
          "name": "stdout",
          "output_type": "stream",
          "text": [
            "Shape of target:  (150,)\n"
          ]
        }
      ],
      "source": [
        "print(\"Shape of target: \", iris_dataset['target'].shape)"
      ]
    },
    {
      "cell_type": "code",
      "execution_count": null,
      "metadata": {
        "id": "Me0yDuRbnk4s",
        "outputId": "0d25fc50-6a18-4501-9f6d-e82956a43c6d"
      },
      "outputs": [
        {
          "name": "stdout",
          "output_type": "stream",
          "text": [
            "First two elements in target:  [0 0]\n"
          ]
        }
      ],
      "source": [
        "print(\"First two elements in target: \", iris_dataset['target'][:2])"
      ]
    },
    {
      "cell_type": "markdown",
      "metadata": {
        "id": "mFPHd8Wfnk4t"
      },
      "source": [
        "We can see that *target* contains the species for each of the 150 iris flowers in the database. The species of the first two flowers is setosa, as 0 corresponds to setosa, 1 to versicolor and 2 to virginica. (How de we know this? It is a convention that elements in *target_names* appear in an increasing order, starting from 0.)"
      ]
    },
    {
      "cell_type": "markdown",
      "metadata": {
        "id": "_fibXUk2nk4t"
      },
      "source": [
        "<br>\n",
        "## Part 3: Splitting our dataset into training data and test data"
      ]
    },
    {
      "cell_type": "markdown",
      "metadata": {
        "id": "lakFiPh_nk4t"
      },
      "source": [
        "Before using our model for previously unseen iris flowers, we need to know how well it performs. To do this, we split our labelled data in two parts: i) a training dataset that we use for building the model, and ii) a test dataset that we use for testing the accuracy of our model. We do this with the use of the *train_test_split* function, which shuffles the dataset randomly, and by default extracts 75% of the cases as training data and 25% of the cases as test data. "
      ]
    },
    {
      "cell_type": "markdown",
      "metadata": {
        "id": "ObrwYESWnk4t"
      },
      "source": [
        "Run the code below to split the iris dataset into training and test data. "
      ]
    },
    {
      "cell_type": "code",
      "execution_count": null,
      "metadata": {
        "id": "wFkWy-T-nk4t"
      },
      "outputs": [],
      "source": [
        "from sklearn.model_selection import train_test_split\n",
        "X_train, X_test, y_train, y_test = train_test_split(\n",
        "    iris_dataset['data'], iris_dataset['target'], random_state=0)"
      ]
    },
    {
      "cell_type": "markdown",
      "metadata": {
        "id": "2HXFK7spnk4t"
      },
      "source": [
        "This is standard nomenclature. *X* corresponds to data (as in *data* in *iris_dataset*) and *y* to labels (as in *target* in *iris_dataset*). So, for the training dataset we get *X_train* and *y_train*, while for the test dataset we get *X_test* and *y_test*.\n",
        "\n",
        "Note that if you wanted to split a different dataset called \"my_dataset\" into a training and a test dataset, then all you would need to do is substitute \"iris_dataset\" with \"my_dataset\" in the code above. \n",
        "\n",
        "By setting *random_state=0* we are making sure that, even though our dataset is randomly shuffled by the *train_test_split* function, we can reproduce our results by using the same fixed seed for the random number generator (in this case 0). So if in the future you want to reproduce the same training and test data, all you need to do is use *random_state=0*."
      ]
    },
    {
      "cell_type": "markdown",
      "metadata": {
        "id": "jldUXo2Fnk4u"
      },
      "source": [
        "Run the code below to get the shape of *X_train* and *y_train*."
      ]
    },
    {
      "cell_type": "code",
      "execution_count": null,
      "metadata": {
        "id": "OgPF5UQ8nk4u",
        "outputId": "bfd3c62f-caf4-44c2-e7b4-7a5438aa2e1f"
      },
      "outputs": [
        {
          "name": "stdout",
          "output_type": "stream",
          "text": [
            "X_train shape:  (112, 4)\n",
            "y_train shape:  (112,)\n"
          ]
        }
      ],
      "source": [
        "print(\"X_train shape: \", X_train.shape)\n",
        "print(\"y_train shape: \", y_train.shape)"
      ]
    },
    {
      "cell_type": "code",
      "execution_count": null,
      "metadata": {
        "id": "r84lnftHnk4u",
        "outputId": "b278c9f3-2b8c-4522-aa54-71c412a955c6"
      },
      "outputs": [
        {
          "name": "stdout",
          "output_type": "stream",
          "text": [
            "X_test shape:  (38, 4)\n",
            "y_test shape:  (38,)\n"
          ]
        }
      ],
      "source": [
        "print(\"X_test shape: \", X_test.shape)\n",
        "print(\"y_test shape: \", y_test.shape)"
      ]
    },
    {
      "cell_type": "markdown",
      "metadata": {
        "id": "vOcfHZVDnk4u"
      },
      "source": [
        "**Discussion prompt**: What do the outputs from the two previous cells mean? Post your thoughts in the discussion forums!"
      ]
    },
    {
      "cell_type": "markdown",
      "metadata": {
        "id": "c5QjEwqbnk4v"
      },
      "source": [
        "Note that it is good practice to visualise our data to get a sense of how different features are related or to spot any abnormalities. We will not do this in this programming task so as to keep things simple and save time, but it is worth keeping in mind for the future."
      ]
    },
    {
      "cell_type": "markdown",
      "metadata": {
        "id": "0MglWLJ6nk4v"
      },
      "source": [
        "<br> \n",
        "## Part 4: Creating our first model: K Nearest Neighbours"
      ]
    },
    {
      "cell_type": "markdown",
      "metadata": {
        "id": "005RBYqTnk4v"
      },
      "source": [
        "We will now learn how to build a classification model for the iris dataset with the use of the k nearest neighbours algorithm."
      ]
    },
    {
      "cell_type": "markdown",
      "metadata": {
        "id": "eFV1qiyZnk4v"
      },
      "source": [
        "### Building the model"
      ]
    },
    {
      "cell_type": "markdown",
      "metadata": {
        "id": "RnnLXdMOnk4v"
      },
      "source": [
        "To build a k nearest neighbours model, we will use the *KNeighborsClassifier* class from the *sklearn.neighbors* module.\n",
        "\n",
        "Run the code below to create a *KNeighborsClassifier* object called *knn* (but we could give it any name we want). Note that *n_neighbors=1* is setting the number of nearest neighbours to 1."
      ]
    },
    {
      "cell_type": "code",
      "execution_count": null,
      "metadata": {
        "id": "f_jfeczank4v"
      },
      "outputs": [],
      "source": [
        "from sklearn.neighbors import KNeighborsClassifier\n",
        "knn = KNeighborsClassifier(n_neighbors=1)"
      ]
    },
    {
      "cell_type": "markdown",
      "metadata": {
        "id": "mLwbBs6Gnk4w"
      },
      "source": [
        "Run the code below to build the model on the training set, i.e. *X_train* and *y_train*.\n",
        "\n",
        "You can ignore the output for now."
      ]
    },
    {
      "cell_type": "code",
      "execution_count": null,
      "metadata": {
        "id": "g7eurwQink4w",
        "outputId": "9240b54f-0eb3-41e5-d2b6-89caf3950e43"
      },
      "outputs": [
        {
          "data": {
            "text/plain": [
              "KNeighborsClassifier(n_neighbors=1)"
            ]
          },
          "execution_count": 19,
          "metadata": {},
          "output_type": "execute_result"
        }
      ],
      "source": [
        "knn.fit(X_train, y_train)"
      ]
    },
    {
      "cell_type": "markdown",
      "metadata": {
        "id": "OaTP8Wzknk4w"
      },
      "source": [
        "### Evaluating the model"
      ]
    },
    {
      "cell_type": "markdown",
      "metadata": {
        "id": "fR6xmsQvnk4w"
      },
      "source": [
        "We will now use the test dataset to evaluate the accuracy of our model. We can do this with the use of the *score* method, as shown below."
      ]
    },
    {
      "cell_type": "code",
      "execution_count": null,
      "metadata": {
        "id": "tuLgPDVLnk4y",
        "outputId": "ea574b17-2e6e-47ea-9a18-6329df6f1eb7"
      },
      "outputs": [
        {
          "name": "stdout",
          "output_type": "stream",
          "text": [
            "Test set score:  0.9736842105263158\n"
          ]
        }
      ],
      "source": [
        "print(\"Test set score: \", knn.score(X_test, y_test))"
      ]
    },
    {
      "cell_type": "markdown",
      "metadata": {
        "id": "TG7jMCB6nk4z"
      },
      "source": [
        "The code in the next cell contains a variation of the previous code, in case you want to get the value of *knn.score(X_test, y_test)* rounded to three decimal places. If you wanted it rounded to two decimal places, then all you would need to do is change *{:.3f}* to *{:.2f}*."
      ]
    },
    {
      "cell_type": "code",
      "execution_count": null,
      "metadata": {
        "id": "rpRUl9Vlnk4z",
        "outputId": "373588cf-c75f-4a56-c765-ef386e001c35"
      },
      "outputs": [
        {
          "name": "stdout",
          "output_type": "stream",
          "text": [
            "Test set score rounded to three decimal places: 0.974\n"
          ]
        }
      ],
      "source": [
        "print(\"Test set score rounded to three decimal places: {:.3f}\".format(knn.score(X_test, y_test)))"
      ]
    },
    {
      "cell_type": "markdown",
      "metadata": {
        "id": "goBKpkD-nk4z"
      },
      "source": [
        "*How is the accuracy of our model calculated?* Essentially, our model is used to make predictions for *X_test* and the values predicted are compared to the actual labels in *y_test*."
      ]
    },
    {
      "cell_type": "markdown",
      "metadata": {
        "id": "UfxpDoERnk4z"
      },
      "source": [
        "### Using the model to make predictions"
      ]
    },
    {
      "cell_type": "markdown",
      "metadata": {
        "id": "rnggpHZrnk40"
      },
      "source": [
        "We will now use our model to make a prediction about a previously unseen iris flower case. We will first import the numpy libary, then we will specify the previously unseen iris flower case (we'll call it *X_unseen*) and finally we will use the *predict* method on *X_unseen* to get the prediction (we'll call the result *prediction*, but we could use any name we want)."
      ]
    },
    {
      "cell_type": "code",
      "execution_count": null,
      "metadata": {
        "id": "2D_J9SXAnk40"
      },
      "outputs": [],
      "source": [
        "import numpy as np"
      ]
    },
    {
      "cell_type": "code",
      "execution_count": null,
      "metadata": {
        "id": "Cdz8n9OUnk40"
      },
      "outputs": [],
      "source": [
        "X_unseen = np.array([[5.3, 2.7, 1, 0.3]])"
      ]
    },
    {
      "cell_type": "code",
      "execution_count": null,
      "metadata": {
        "id": "_tYBjIMTnk40",
        "outputId": "4ea01b80-2cb5-4686-8869-2ed54276b294"
      },
      "outputs": [
        {
          "name": "stdout",
          "output_type": "stream",
          "text": [
            "Prediction label:  [0]\n",
            "Predicted target name:  ['setosa']\n"
          ]
        }
      ],
      "source": [
        "prediction = knn.predict(X_unseen)\n",
        "\n",
        "print(\"Prediction label: \", prediction)\n",
        "print(\"Predicted target name: \", iris_dataset['target_names'][prediction])"
      ]
    },
    {
      "cell_type": "markdown",
      "metadata": {
        "id": "ahYwy8pynk40"
      },
      "source": [
        "According to this output, the prediction for case *X_unseen* is setosa."
      ]
    },
    {
      "cell_type": "markdown",
      "metadata": {
        "id": "jaWJSzAMnk41"
      },
      "source": [
        "### Tweaking the model"
      ]
    },
    {
      "cell_type": "markdown",
      "metadata": {
        "id": "1eNMssm7nk41"
      },
      "source": [
        "We can play around with the model to try different numbers of k nearest neighbours, e.g. 3 or 4.\n",
        "\n",
        "**Challenge**: Provide some code below to build and evaluate such a model. All you need to do is reuse and modify parts of the code above."
      ]
    },
    {
      "cell_type": "code",
      "execution_count": null,
      "metadata": {
        "id": "Mo91VpEmnk41",
        "outputId": "51e85663-f05c-47cd-f781-a8072fef8a65"
      },
      "outputs": [
        {
          "data": {
            "text/plain": [
              "KNeighborsClassifier(n_neighbors=3)"
            ]
          },
          "execution_count": 44,
          "metadata": {},
          "output_type": "execute_result"
        }
      ],
      "source": [
        "# your code goes here\n",
        "knn_3 = KNeighborsClassifier(n_neighbors= 3)\n",
        "knn_3.fit(X_train, y_train)"
      ]
    },
    {
      "cell_type": "code",
      "execution_count": null,
      "metadata": {
        "id": "yEtmfu07nk41"
      },
      "outputs": [],
      "source": [
        "x_new_unseen = np.array([[6.0, 5.4, 4.6,0.5]])"
      ]
    },
    {
      "cell_type": "markdown",
      "metadata": {
        "id": "iHj06-lNnk42"
      },
      "source": [
        "<br>\n",
        "## Part 5: Creating a different model: Decision Trees"
      ]
    },
    {
      "cell_type": "markdown",
      "metadata": {
        "id": "CL41iXhBnk42"
      },
      "source": [
        "We will now learn how to build a classification model for the iris dataset with the use of the decision tree classifier."
      ]
    },
    {
      "cell_type": "markdown",
      "metadata": {
        "id": "eTeIoacAnk42"
      },
      "source": [
        "*Important note*: We would normally use the same training and test data as before, so we would reuse *X_train*, *X_test*, *y_train* and *y_test* (so as to compare the results of the K Nearest Neighbours and Decision Tree models). However, in this programming task we will re-split the iris dataset into training and test data, in order to illustrate how we can get a new version by using a different fixed seed (in this case, 7). If you plan to use this notebook as a template for future machine learning projects, then you can delete the next cell. "
      ]
    },
    {
      "cell_type": "code",
      "execution_count": null,
      "metadata": {
        "id": "3cqMa82dnk43"
      },
      "outputs": [],
      "source": [
        "from sklearn.model_selection import train_test_split\n",
        "X_train, X_test, y_train, y_test = train_test_split(\n",
        "    iris_dataset['data'], iris_dataset['target'], random_state=7)"
      ]
    },
    {
      "cell_type": "markdown",
      "metadata": {
        "id": "w8LUoaFEnk43"
      },
      "source": [
        "To build a decision tree model, we will use the *DecisionTreeClassifier* class from the *sklearn.tree* module.\n",
        "\n",
        "Run the code below to create a *DecisionTreeClassifier* object called *tree* and to fit the model on the training set, (i.e. *X_train* and *y_train*). You can ignore the information outputed.\n",
        "\n",
        "Note that the decision tree classifier algorithm contains some randomness aspects (explaining these is beyond the scope of this course), so by setting *random_state=12* we can reproduce our results by using the same fixed seed for the random number generator (in this case 12)."
      ]
    },
    {
      "cell_type": "code",
      "execution_count": null,
      "metadata": {
        "id": "b3_vHABlnk43",
        "outputId": "d8c3bae0-f6ec-4ae7-c2dc-1693639b730d"
      },
      "outputs": [
        {
          "data": {
            "text/plain": [
              "DecisionTreeClassifier(random_state=12)"
            ]
          },
          "execution_count": 35,
          "metadata": {},
          "output_type": "execute_result"
        }
      ],
      "source": [
        "from sklearn.tree import DecisionTreeClassifier\n",
        "tree = DecisionTreeClassifier(random_state=12)\n",
        "tree.fit(X_train, y_train)"
      ]
    },
    {
      "cell_type": "markdown",
      "metadata": {
        "id": "X_6mmhxGnk43"
      },
      "source": [
        "Run the code below to evaluate the accuracy of the decision tree model that we just built. We'll distinguish between accuracy on the training set and accuracy on the test set."
      ]
    },
    {
      "cell_type": "code",
      "execution_count": null,
      "metadata": {
        "id": "zRjdXAGink44",
        "outputId": "6fabed76-0f4c-47e9-ffc7-95b3498ff6e8"
      },
      "outputs": [
        {
          "name": "stdout",
          "output_type": "stream",
          "text": [
            "Accuracy on training set:  1.0\n",
            "Accuracy on test set:  0.8947368421052632\n"
          ]
        }
      ],
      "source": [
        "print(\"Accuracy on training set: \", tree.score(X_train, y_train))\n",
        "print(\"Accuracy on test set: \", tree.score(X_test, y_test))"
      ]
    },
    {
      "cell_type": "markdown",
      "metadata": {
        "id": "fXgmyUcmnk44"
      },
      "source": [
        "The decision tree built has accuracy 100% on the training dataset. This means that our decision tree is over-fitting the training data.\n",
        "\n",
        "In order to avoid overfitting (and hopefully improve the accuracy of the model on test data), we can stop before the entire tree is created. We can do this by setting the maximal depth of the tree.\n",
        "\n",
        "Run the code below to create a new version of the tree with maximal depth 3. Note that the only difference to the code in the previous cell is *max_depth=3*."
      ]
    },
    {
      "cell_type": "code",
      "execution_count": null,
      "metadata": {
        "id": "4yOqjwRCnk44",
        "outputId": "c29f19bf-6cf3-432f-8056-806029f84f9c"
      },
      "outputs": [
        {
          "name": "stdout",
          "output_type": "stream",
          "text": [
            "Accuracy on training set:  0.9910714285714286\n",
            "Accuracy on test set:  0.9210526315789473\n"
          ]
        }
      ],
      "source": [
        "from sklearn.tree import DecisionTreeClassifier\n",
        "tree = DecisionTreeClassifier(max_depth=3, random_state=12)\n",
        "tree.fit(X_train, y_train)\n",
        "\n",
        "print(\"Accuracy on training set: \", tree.score(X_train, y_train))\n",
        "print(\"Accuracy on test set: \", tree.score(X_test, y_test))"
      ]
    },
    {
      "cell_type": "markdown",
      "metadata": {
        "id": "8Bskmeq7nk44"
      },
      "source": [
        "The new decision tree has lower accuracy on the training dataset, but higher accuracy on the test dataset."
      ]
    },
    {
      "cell_type": "markdown",
      "metadata": {
        "id": "z54GFDcjnk44"
      },
      "source": [
        "We will now use our decision tree to make a prediction for the previously unseen iris case *X_unseen*, which was defined earlier in this notebook."
      ]
    },
    {
      "cell_type": "code",
      "execution_count": null,
      "metadata": {
        "id": "dVN1rwPrnk45",
        "outputId": "09630f35-239e-4c51-dd5c-ffcd1da105c7"
      },
      "outputs": [
        {
          "name": "stdout",
          "output_type": "stream",
          "text": [
            "Prediction label:  [0]\n",
            "Predicted target name:  ['setosa']\n"
          ]
        }
      ],
      "source": [
        "prediction = tree.predict(X_unseen)\n",
        "\n",
        "print(\"Prediction label: \", prediction)\n",
        "print(\"Predicted target name: \", iris_dataset['target_names'][prediction])"
      ]
    },
    {
      "cell_type": "markdown",
      "metadata": {
        "id": "70lXzszlnk45"
      },
      "source": [
        "According to this output, the prediction for case *X_unseen* is setosa. This prediction is in line with the prediction that we got using the K Nearest Neighbours classifier."
      ]
    },
    {
      "cell_type": "markdown",
      "metadata": {
        "id": "dhBDfVGCnk45"
      },
      "source": [
        "<br>\n",
        "## Part 6 (Optional): Practise further"
      ]
    },
    {
      "cell_type": "markdown",
      "metadata": {
        "id": "nACF_O0Ynk45"
      },
      "source": [
        "We highly recommend that you practise further with what you've learnt in this programming task. Here are some ideas to get you started:\n",
        "- Build a K Nearest Neighbours model for a different number of neighbours and evaluate it. \n",
        "- Build a Decision Tree model with a different maximal depth and evaluate it.\n",
        "- Build a Decision Tree model on the original training data (i.e. for the original split of data with random_state=0) and evaluate it."
      ]
    },
    {
      "cell_type": "code",
      "execution_count": null,
      "metadata": {
        "id": "oAx-lO5hnk45",
        "outputId": "2ff0f03b-f12f-4ea9-d46b-0176ca7cd214"
      },
      "outputs": [
        {
          "data": {
            "text/plain": [
              "array([[6. , 5.4, 4.6, 0.5]])"
            ]
          },
          "execution_count": 41,
          "metadata": {},
          "output_type": "execute_result"
        }
      ],
      "source": [
        "x_new_unseen"
      ]
    },
    {
      "cell_type": "code",
      "execution_count": null,
      "metadata": {
        "id": "ahqD6SzInk46",
        "outputId": "3d633eba-c07a-4868-d394-8d2646575674"
      },
      "outputs": [
        {
          "data": {
            "text/plain": [
              "DecisionTreeClassifier(max_depth=4, random_state=10)"
            ]
          },
          "execution_count": 42,
          "metadata": {},
          "output_type": "execute_result"
        }
      ],
      "source": [
        "#A tree with a different maximal depth\n",
        "tree_2 = DecisionTreeClassifier(max_depth=4, random_state=10)\n",
        "tree_2.fit(X_train, y_train)"
      ]
    },
    {
      "cell_type": "code",
      "execution_count": null,
      "metadata": {
        "id": "ESdgkG4tnk46",
        "outputId": "5f127460-f4ef-4c7e-ace4-29225f01c461"
      },
      "outputs": [
        {
          "name": "stdout",
          "output_type": "stream",
          "text": [
            "label [0]\n",
            "target name ['setosa']\n"
          ]
        }
      ],
      "source": [
        "prediction_2 = tree_2.predict(x_new_unseen)\n",
        "print('label', prediction_2)\n",
        "print('target name', iris_dataset['target_names'][prediction_2])"
      ]
    },
    {
      "cell_type": "code",
      "execution_count": null,
      "metadata": {
        "id": "C_3xb1TAnk46"
      },
      "outputs": [],
      "source": []
    },
    {
      "cell_type": "code",
      "execution_count": null,
      "metadata": {
        "id": "x2kQFYMmnk46",
        "outputId": "4dcd7e2b-2b3b-42b0-997b-6f50fb3d0fcb"
      },
      "outputs": [
        {
          "name": "stdout",
          "output_type": "stream",
          "text": [
            "label [1]\n",
            "target name ['versicolor']\n"
          ]
        }
      ],
      "source": [
        "#a knn with a different \n",
        "predict_3 = knn_3.predict(x_new_unseen)\n",
        "print('label', predict_3)\n",
        "print('target name', iris_dataset['target_names'][predict_3])"
      ]
    },
    {
      "cell_type": "code",
      "execution_count": null,
      "metadata": {
        "id": "PRevHPUWnk46",
        "outputId": "fd3d65b1-821a-4495-f3d5-9e355b206221"
      },
      "outputs": [
        {
          "name": "stdout",
          "output_type": "stream",
          "text": [
            "label [0]\n",
            "target name ['setosa']\n"
          ]
        }
      ],
      "source": [
        "predict_3 = knn_3.predict(X_unseen)\n",
        "print('label', predict_3)\n",
        "print('target name', iris_dataset['target_names'][predict_3])"
      ]
    },
    {
      "cell_type": "code",
      "execution_count": null,
      "metadata": {
        "id": "L5DqVuk8nk47",
        "outputId": "a51b4608-f4b5-4d7f-fd50-cd79356041e2"
      },
      "outputs": [
        {
          "data": {
            "text/plain": [
              "array([[5.3, 2.7, 1. , 0.3]])"
            ]
          },
          "execution_count": 47,
          "metadata": {},
          "output_type": "execute_result"
        }
      ],
      "source": [
        "X_unseen"
      ]
    },
    {
      "cell_type": "code",
      "execution_count": null,
      "metadata": {
        "id": "O9nGu2wank47"
      },
      "outputs": [],
      "source": []
    }
  ],
  "metadata": {
    "anaconda-cloud": {},
    "kernelspec": {
      "display_name": "Python 3 (ipykernel)",
      "language": "python",
      "name": "python3"
    },
    "language_info": {
      "codemirror_mode": {
        "name": "ipython",
        "version": 3
      },
      "file_extension": ".py",
      "mimetype": "text/x-python",
      "name": "python",
      "nbconvert_exporter": "python",
      "pygments_lexer": "ipython3",
      "version": "3.9.12"
    },
    "colab": {
      "provenance": []
    }
  },
  "nbformat": 4,
  "nbformat_minor": 0
}