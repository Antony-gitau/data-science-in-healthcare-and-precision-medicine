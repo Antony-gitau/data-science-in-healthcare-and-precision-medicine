{
 "cells": [
  {
   "cell_type": "markdown",
   "metadata": {},
   "source": [
    "# Natural Language Processing Task"
   ]
  },
  {
   "cell_type": "markdown",
   "metadata": {},
   "source": [
    "In this programming task, we'll learn how to do some basic natural processing tasks, e.g. tokenisation, stemming and named entity recognition. We'll get to work with two fictitious clinical pieces of text: a biopsy report and a medical note."
   ]
  },
  {
   "cell_type": "markdown",
   "metadata": {},
   "source": [
    "## Part 1: Importing packages needed"
   ]
  },
  {
   "cell_type": "markdown",
   "metadata": {},
   "source": [
    "### Importing NLTK"
   ]
  },
  {
   "cell_type": "markdown",
   "metadata": {},
   "source": [
    "*NLTK* (Natural Language Toolkit) is a very popular suite of libraries and other resources for natural language processing. Let's tell Python that we're going to be using NLTK, with the use of the import command."
   ]
  },
  {
   "cell_type": "code",
   "execution_count": 1,
   "metadata": {},
   "outputs": [
    {
     "name": "stdout",
     "output_type": "stream",
     "text": [
      "Requirement already satisfied: nltk in c:\\users\\hp\\anaconda3\\lib\\site-packages (3.5)Note: you may need to restart the kernel to use updated packages.\n",
      "Requirement already satisfied: tqdm in c:\\users\\hp\\anaconda3\\lib\\site-packages (from nltk) (4.50.2)\n",
      "Requirement already satisfied: regex in c:\\users\\hp\\anaconda3\\lib\\site-packages (from nltk) (2020.10.15)\n",
      "Requirement already satisfied: click in c:\\users\\hp\\anaconda3\\lib\\site-packages (from nltk) (7.1.2)\n",
      "Requirement already satisfied: joblib in c:\\users\\hp\\anaconda3\\lib\\site-packages (from nltk) (0.17.0)\n",
      "\n"
     ]
    }
   ],
   "source": [
    "pip install nltk\n"
   ]
  },
  {
   "cell_type": "code",
   "execution_count": 2,
   "metadata": {},
   "outputs": [],
   "source": [
    "import nltk"
   ]
  },
  {
   "cell_type": "markdown",
   "metadata": {},
   "source": [
    "We will also import a few more NLTK utilities for tokenisation, stemming, part of speech tagging and named entity recognition."
   ]
  },
  {
   "cell_type": "code",
   "execution_count": 3,
   "metadata": {},
   "outputs": [
    {
     "name": "stderr",
     "output_type": "stream",
     "text": [
      "[nltk_data] Downloading package stopwords to\n",
      "[nltk_data]     C:\\Users\\hp\\AppData\\Roaming\\nltk_data...\n",
      "[nltk_data]   Unzipping corpora\\stopwords.zip.\n",
      "[nltk_data] Downloading package punkt to\n",
      "[nltk_data]     C:\\Users\\hp\\AppData\\Roaming\\nltk_data...\n",
      "[nltk_data]   Unzipping tokenizers\\punkt.zip.\n",
      "[nltk_data] Downloading package averaged_perceptron_tagger to\n",
      "[nltk_data]     C:\\Users\\hp\\AppData\\Roaming\\nltk_data...\n",
      "[nltk_data]   Unzipping taggers\\averaged_perceptron_tagger.zip.\n",
      "[nltk_data] Downloading package maxent_ne_chunker to\n",
      "[nltk_data]     C:\\Users\\hp\\AppData\\Roaming\\nltk_data...\n",
      "[nltk_data]   Unzipping chunkers\\maxent_ne_chunker.zip.\n",
      "[nltk_data] Downloading package words to\n",
      "[nltk_data]     C:\\Users\\hp\\AppData\\Roaming\\nltk_data...\n",
      "[nltk_data]   Unzipping corpora\\words.zip.\n"
     ]
    },
    {
     "data": {
      "text/plain": [
       "True"
      ]
     },
     "execution_count": 3,
     "metadata": {},
     "output_type": "execute_result"
    }
   ],
   "source": [
    "from nltk.corpus import stopwords\n",
    "nltk.download('stopwords')\n",
    "nltk.download('punkt')\n",
    "nltk.download('averaged_perceptron_tagger')\n",
    "nltk.download('maxent_ne_chunker')\n",
    "nltk.download('words')"
   ]
  },
  {
   "cell_type": "markdown",
   "metadata": {},
   "source": [
    "### Importing docx2txt"
   ]
  },
  {
   "cell_type": "markdown",
   "metadata": {},
   "source": [
    "*docx2txt* is a Python-based utility which converts text within docx files into plain text. We'll import this in order to be able to work with the two clinical docx files."
   ]
  },
  {
   "cell_type": "code",
   "execution_count": 5,
   "metadata": {},
   "outputs": [
    {
     "name": "stdout",
     "output_type": "stream",
     "text": [
      "Collecting docx2txt\n",
      "  Downloading docx2txt-0.8.tar.gz (2.8 kB)\n",
      "Building wheels for collected packages: docx2txt\n",
      "  Building wheel for docx2txt (setup.py): started\n",
      "  Building wheel for docx2txt (setup.py): finished with status 'done'\n",
      "  Created wheel for docx2txt: filename=docx2txt-0.8-py3-none-any.whl size=3969 sha256=eceb66884720db664652a84365bb5849d65255efc40d5aeca05fe2e54075098a\n",
      "  Stored in directory: c:\\users\\hp\\appdata\\local\\pip\\cache\\wheels\\55\\f0\\2c\\81637d42670985178b77df6d41b9b6c6dc18c94818447414b9\n",
      "Successfully built docx2txt\n",
      "Installing collected packages: docx2txt\n",
      "Successfully installed docx2txt-0.8\n",
      "Note: you may need to restart the kernel to use updated packages.\n"
     ]
    }
   ],
   "source": [
    "pip install docx2txt"
   ]
  },
  {
   "cell_type": "code",
   "execution_count": 6,
   "metadata": {},
   "outputs": [],
   "source": [
    "import docx2txt"
   ]
  },
  {
   "cell_type": "markdown",
   "metadata": {},
   "source": [
    "<br>\n",
    "## Part 2: Processing a Biopsy Report"
   ]
  },
  {
   "cell_type": "markdown",
   "metadata": {},
   "source": [
    "### Loading the data"
   ]
  },
  {
   "cell_type": "markdown",
   "metadata": {},
   "source": [
    "The Biopsy Report is a fictitious example for the purpose of this programming task. It contains biopsy details about a mastecotmy specimen from a patient.\n",
    "\n",
    "The Biopsy Report is a Microsoft Word document (in a docx file format). In order for it to be processed by the NLTK package, the document requires to be converted into plain text.  In this case, we are using the *process* method from the docx2txt Python package to do this. We are calling the resulting plain text \"text\"."
   ]
  },
  {
   "cell_type": "code",
   "execution_count": 7,
   "metadata": {},
   "outputs": [],
   "source": [
    "text = docx2txt.process(r\"D:\\MyLib.Doc\\data-science-in-healthcare-and-precision-medicine\\Biopsy_Report.docx\")"
   ]
  },
  {
   "cell_type": "code",
   "execution_count": 9,
   "metadata": {},
   "outputs": [
    {
     "data": {
      "text/plain": [
       "'Biopsy Report\\n\\n\\n\\nName:  Mrs Jane Black\\t\\t\\t\\t\\tD.O.B.: 01-01-58\\n\\nHospital:  RIE\\t\\t\\t\\t\\t\\tPAS No:  12345\\t\\tWard:  1\\n\\nClinician:  A. Smith\\t\\t\\t\\t\\tSpeciality:  General Surgery\\n\\nDate Received:  28-03-18\\t\\t\\t\\t\\tDate Issued:  30-03-18\\n\\n\\n\\nSpecimen/Clinical History:\\n\\nMastectomy left and axillary contents\\n\\n\\n\\nMacroscopic Report: \\n\\n\\n\\nHistology Report:\\n\\nGENERAL DETAILS\\n\\n\\n\\nSide\\t\\t\\t\\t\\t\\t\\t\\t\\t\\tLeft\\n\\nHistological calcification\\t\\t\\t\\t\\t\\t\\t\\tPresent\\n\\nSpecimen radiograph seen\\t\\t\\t\\t\\t\\t\\t\\tYes\\n\\nMammographic abnormality present\\t\\t\\t\\t\\t\\tYes\\n\\nSpecimen type\\t\\t\\t\\t\\t\\t\\t\\t\\tMastectomy\\n\\nSpecimen weight\\t\\t\\t\\t\\t\\t\\t\\t\\t1020g\\n\\nBenign lesions present\\t\\t\\t\\t\\t\\t\\t\\tNo\\n\\nMalignant lesions present\\t\\t\\t\\t\\t\\t\\t\\tYes\\n\\n\\n\\nBENIGN LESIONS\\t\\t\\t\\t\\t\\t\\t\\tNot present\\n\\n\\n\\nNON INVASIVE MALIGNANT LESIONS\\t\\t\\t\\t\\tPresent\\n\\n\\n\\nINVASIVE MALIGNANT LESIONS\\t\\t\\t\\t\\t\\tPresent\\n\\n\\n\\nType of invasive lesion\\t\\t\\t\\t\\t\\t\\t\\tDuctal NST\\n\\nMax diameter invasive tumour\\t\\t\\t\\t\\t\\t\\t18mm\\n\\nWhole size of tumour\\t\\t\\t\\t\\t\\t\\t\\t18mm (to include DCIS)\\n\\n\\n\\nAXILLARY NODES PRESENT\\n\\n\\n\\nNumber involved\\t\\t\\t\\t\\t\\t\\t\\t\\t5\\n\\nTotal number\\t\\t\\t\\t\\t\\t\\t\\t\\t20\\n\\n\\n\\nOTHER NODES PRESENT\\t\\t\\t\\t\\t\\t\\tNo\\n\\n\\n\\nPerinodal fat extension\\t\\t\\t\\t\\t\\t\\t\\tYes\\n\\n\\n\\nEXCISION MARGINS\\t\\t\\t\\t\\t\\t\\t\\tDoes not reach margin\\n\\n\\n\\nClearance\\t\\t\\t\\t\\t\\t\\t\\t\\t10mm\\n\\n\\n\\nGRADE OF TUMOUR\\t\\t\\t\\t\\t\\t\\t\\tII\\n\\n\\n\\nTubules\\t\\t\\t\\t\\t\\t\\t\\t\\t\\t5\\n\\nNuclear pleomorphism\\t\\t\\t\\t\\t\\t\\t\\t3\\n\\nMitoses\\t\\t\\t\\t\\t\\t\\t\\t\\t\\t2\\n\\n\\n\\nDISEASE EXTENT\\t\\t\\t\\t\\t\\t\\t\\tLocalised\\n\\n\\n\\nVASCULAR INVASION\\t\\t\\t\\t\\t\\t\\tNot seen\\n\\n\\n\\nHORMONE RECEPTORS\\n\\n\\n\\nOestrogen receptor\\t\\t\\t\\t\\t\\t\\t\\tPositive\\n\\n\\t\\t\\t\\t\\t\\t\\t\\t\\t\\tQuickscore 20/20\\n\\nProgesterone receptor\\t\\t\\t\\t\\t\\t\\t\\tPositiive\\n\\n\\t\\t\\t\\t\\t\\t\\t\\t\\t\\tQuickscore 20/20\\n\\n\\n\\nCOMMENTS'"
      ]
     },
     "execution_count": 9,
     "metadata": {},
     "output_type": "execute_result"
    }
   ],
   "source": [
    "text"
   ]
  },
  {
   "cell_type": "markdown",
   "metadata": {},
   "source": [
    "By running the code in the following cell, you'll see that text is a string."
   ]
  },
  {
   "cell_type": "code",
   "execution_count": 8,
   "metadata": {},
   "outputs": [
    {
     "data": {
      "text/plain": [
       "str"
      ]
     },
     "execution_count": 8,
     "metadata": {},
     "output_type": "execute_result"
    }
   ],
   "source": [
    "type(text)"
   ]
  },
  {
   "cell_type": "markdown",
   "metadata": {},
   "source": [
    "Run the code in the following cell to get the first 160 characters in *text*."
   ]
  },
  {
   "cell_type": "code",
   "execution_count": 10,
   "metadata": {},
   "outputs": [
    {
     "data": {
      "text/plain": [
       "'Biopsy Report\\n\\n\\n\\nName:  Mrs Jane Black\\t\\t\\t\\t\\tD.O.B.: 01-01-58\\n\\nHospital:  RIE\\t\\t\\t\\t\\t\\tPAS No:  12345\\t\\tWard:  1\\n\\nClinician:  A. Smith\\t\\t\\t\\t\\tSpeciality:  General Surgery'"
      ]
     },
     "execution_count": 10,
     "metadata": {},
     "output_type": "execute_result"
    }
   ],
   "source": [
    "text[:160]"
   ]
  },
  {
   "cell_type": "markdown",
   "metadata": {},
   "source": [
    "You can recognise several words in this text, e.g. \"Biopsy Report\" and \"General Surgery\". Note that there are some special characters too:\n",
    "- \\n corresponds to new line\n",
    "- \\t corresponds to tab space"
   ]
  },
  {
   "cell_type": "markdown",
   "metadata": {},
   "source": [
    "### Tokenisation"
   ]
  },
  {
   "cell_type": "markdown",
   "metadata": {},
   "source": [
    "Tokenisation breaks large strings into smaller chunks. Let's use NLTK's *word_tokenize* method to split the *text* string into words and punctuation. We'll call the resulting list of words and punctuation *tokens*."
   ]
  },
  {
   "cell_type": "code",
   "execution_count": 11,
   "metadata": {},
   "outputs": [],
   "source": [
    "tokens = nltk.word_tokenize(text)"
   ]
  },
  {
   "cell_type": "markdown",
   "metadata": {},
   "source": [
    "Run the code in the following cell to get the first 10 elements of *tokens*. As you can see, there are both word- and punctuation-based tokens."
   ]
  },
  {
   "cell_type": "code",
   "execution_count": 13,
   "metadata": {},
   "outputs": [
    {
     "data": {
      "text/plain": [
       "['Biopsy', 'Report', 'Name', ':', 'Mrs', 'Jane', 'Black', 'D.O.B', '.', ':']"
      ]
     },
     "execution_count": 13,
     "metadata": {},
     "output_type": "execute_result"
    }
   ],
   "source": [
    "tokens[:10]"
   ]
  },
  {
   "cell_type": "markdown",
   "metadata": {},
   "source": [
    "#### Removing stop words"
   ]
  },
  {
   "cell_type": "markdown",
   "metadata": {},
   "source": [
    "Now we want to remove any stop words (i.e. any commonly used words, such as \"and\") from the list of tokens. We'll call the resulting list of tokens *clean_tokens*. <br><br>\n",
    "Note that you don't need to understand the code in the following cell. You can simply reuse it in the future as a template, where you replace *tokens* with the name of your list of tokens.\n",
    "(But if you're really curious, this is what the following code does: It first creates a copy of *tokens* called *clean_tokens*. And then for each token in the list of tokens, if it's in the list of stop words in English, then it is removed.)"
   ]
  },
  {
   "cell_type": "code",
   "execution_count": 14,
   "metadata": {},
   "outputs": [],
   "source": [
    "clean_tokens = tokens[:]"
   ]
  },
  {
   "cell_type": "code",
   "execution_count": 16,
   "metadata": {},
   "outputs": [
    {
     "data": {
      "text/plain": [
       "['Biopsy', 'Report', 'Name', ':', 'Mrs', 'Jane', 'Black', 'D.O.B', '.', ':']"
      ]
     },
     "execution_count": 16,
     "metadata": {},
     "output_type": "execute_result"
    }
   ],
   "source": [
    "clean_tokens[:10]"
   ]
  },
  {
   "cell_type": "code",
   "execution_count": 17,
   "metadata": {},
   "outputs": [],
   "source": [
    "clean_tokens = tokens[:]\n",
    "for token in tokens:\n",
    "    if token in stopwords.words('english'):\n",
    "        clean_tokens.remove(token)"
   ]
  },
  {
   "cell_type": "code",
   "execution_count": null,
   "metadata": {},
   "outputs": [],
   "source": []
  },
  {
   "cell_type": "markdown",
   "metadata": {},
   "source": [
    "Let's print out the number of tokens (with and without stop words)."
   ]
  },
  {
   "cell_type": "code",
   "execution_count": 19,
   "metadata": {},
   "outputs": [
    {
     "name": "stdout",
     "output_type": "stream",
     "text": [
      "Number of tokens including stop words:   170\n",
      "Number of tokens excluding stop words:   165\n"
     ]
    }
   ],
   "source": [
    "print(\"Number of tokens including stop words:  \",len(tokens))\n",
    "print(\"Number of tokens excluding stop words:  \",len(clean_tokens))"
   ]
  },
  {
   "cell_type": "code",
   "execution_count": 23,
   "metadata": {},
   "outputs": [
    {
     "data": {
      "text/plain": [
       "['Biopsy',\n",
       " 'Report',\n",
       " 'Name',\n",
       " ':',\n",
       " 'Mrs',\n",
       " 'Jane',\n",
       " 'Black',\n",
       " 'D.O.B',\n",
       " '.',\n",
       " ':',\n",
       " '01-01-58',\n",
       " 'Hospital',\n",
       " ':',\n",
       " 'RIE',\n",
       " 'PAS',\n",
       " 'No',\n",
       " ':',\n",
       " '12345',\n",
       " 'Ward',\n",
       " ':',\n",
       " '1',\n",
       " 'Clinician',\n",
       " ':',\n",
       " 'A.',\n",
       " 'Smith',\n",
       " 'Speciality',\n",
       " ':',\n",
       " 'General',\n",
       " 'Surgery',\n",
       " 'Date',\n",
       " 'Received',\n",
       " ':',\n",
       " '28-03-18',\n",
       " 'Date',\n",
       " 'Issued',\n",
       " ':',\n",
       " '30-03-18',\n",
       " 'Specimen/Clinical',\n",
       " 'History',\n",
       " ':',\n",
       " 'Mastectomy',\n",
       " 'left',\n",
       " 'axillary',\n",
       " 'contents',\n",
       " 'Macroscopic',\n",
       " 'Report',\n",
       " ':',\n",
       " 'Histology',\n",
       " 'Report',\n",
       " ':']"
      ]
     },
     "execution_count": 23,
     "metadata": {},
     "output_type": "execute_result"
    }
   ],
   "source": [
    "clean_tokens[:50]"
   ]
  },
  {
   "cell_type": "markdown",
   "metadata": {},
   "source": [
    "As you can see, there are not that many stop words in the Biopsy Report. However, removing stop words may be really useful when working with documents containing many pages of text.\n"
   ]
  },
  {
   "cell_type": "markdown",
   "metadata": {},
   "source": [
    "#### Frequency distributions"
   ]
  },
  {
   "cell_type": "markdown",
   "metadata": {},
   "source": [
    "Next, we want to investigate the frequency of certain words in the Biopsy Report. We start by generating the frequency distribution of all tokens (including stop words) with the use of NLTK's FreqDist. Let's call this *freq*."
   ]
  },
  {
   "cell_type": "code",
   "execution_count": 25,
   "metadata": {},
   "outputs": [],
   "source": [
    "freq = nltk.FreqDist(tokens)"
   ]
  },
  {
   "cell_type": "markdown",
   "metadata": {},
   "source": [
    "Run the code in the following cell to get the 10 most frequently encountered tokens and their frequencies."
   ]
  },
  {
   "cell_type": "code",
   "execution_count": 26,
   "metadata": {},
   "outputs": [
    {
     "data": {
      "text/plain": [
       "[(':', 12),\n",
       " ('Yes', 4),\n",
       " ('present', 4),\n",
       " ('Report', 3),\n",
       " ('No', 3),\n",
       " ('Present', 3),\n",
       " ('Specimen', 3),\n",
       " ('LESIONS', 3),\n",
       " ('Date', 2),\n",
       " ('Mastectomy', 2)]"
      ]
     },
     "execution_count": 26,
     "metadata": {},
     "output_type": "execute_result"
    }
   ],
   "source": [
    "freq.most_common(10)"
   ]
  },
  {
   "cell_type": "markdown",
   "metadata": {},
   "source": [
    "Taking \"lesion\" and \"lesions\" as an example, we can see how many times they appear in the document. Note that we're distinguishing beween different versions of the word, such as upper case and lower case. These are not the only possible variations, they're just the ones we're interested in right now."
   ]
  },
  {
   "cell_type": "code",
   "execution_count": 27,
   "metadata": {
    "scrolled": true
   },
   "outputs": [
    {
     "name": "stdout",
     "output_type": "stream",
     "text": [
      "Frequency of lesion:   1\n",
      "Frequency of lesions:  2\n",
      "Frequency of LESION:   0\n",
      "Frequency of LESIONS:  3\n"
     ]
    }
   ],
   "source": [
    "print(\"Frequency of lesion:  \", freq[\"lesion\"])\n",
    "print(\"Frequency of lesions: \", freq[\"lesions\"])\n",
    "print(\"Frequency of LESION:  \", freq[\"LESION\"])\n",
    "print(\"Frequency of LESIONS: \", freq[\"LESIONS\"])"
   ]
  },
  {
   "cell_type": "markdown",
   "metadata": {},
   "source": [
    "#### Lower case vs. upper case text"
   ]
  },
  {
   "cell_type": "markdown",
   "metadata": {},
   "source": [
    "It can be useful to disregard upper case text and lower case text.  Therefore, we can convert upper case text to lower case text. We can do this with the use of Python's *lower()* method. <br>\n",
    "\n",
    "Let's apply the *lower()* method to each element in *tokens*, so that all text is counted as lower case text. We'll call this new list of lower case tokens *lowercase_tokens* (but you could call it anything you want)."
   ]
  },
  {
   "cell_type": "code",
   "execution_count": 32,
   "metadata": {},
   "outputs": [],
   "source": [
    "lowercase_tokens = [t.lower() for t in tokens]"
   ]
  },
  {
   "cell_type": "code",
   "execution_count": 33,
   "metadata": {},
   "outputs": [],
   "source": [
    "#the for loop format of the list comprehension above\n",
    "lowercase_tokenss = []\n",
    "for t in tokens:\n",
    "    lowercase_tokenss.append(t.lower())"
   ]
  },
  {
   "cell_type": "markdown",
   "metadata": {},
   "source": [
    "Run the code in the following cell to get the first 10 elements of *lowercase_tokens*. As you can see, this is all lower case."
   ]
  },
  {
   "cell_type": "code",
   "execution_count": 34,
   "metadata": {},
   "outputs": [
    {
     "data": {
      "text/plain": [
       "['biopsy', 'report', 'name', ':', 'mrs', 'jane', 'black', 'd.o.b', '.', ':']"
      ]
     },
     "execution_count": 34,
     "metadata": {},
     "output_type": "execute_result"
    }
   ],
   "source": [
    "lowercase_tokens[:10]"
   ]
  },
  {
   "cell_type": "markdown",
   "metadata": {},
   "source": [
    "Next, we'll generate the frequency distribution of *lowercase_tokens*, and we'll call it *lowercase_freq*."
   ]
  },
  {
   "cell_type": "code",
   "execution_count": 36,
   "metadata": {},
   "outputs": [],
   "source": [
    "lowercase_freq = nltk.FreqDist(lowercase_tokens)"
   ]
  },
  {
   "cell_type": "markdown",
   "metadata": {},
   "source": [
    "Now, let's print out the frequency of lesion(s)/LESION(S) as an example.   \n",
    "Observe that the frequencies for LESION and LESIONS are now 0.  "
   ]
  },
  {
   "cell_type": "code",
   "execution_count": 37,
   "metadata": {},
   "outputs": [
    {
     "name": "stdout",
     "output_type": "stream",
     "text": [
      "Frequency of lesion:   1\n",
      "Frequency of lesions:  5\n",
      "Frequency of LESION:   0\n",
      "Frequency of LESIONS:  0\n"
     ]
    }
   ],
   "source": [
    "print(\"Frequency of lesion:  \", lowercase_freq[\"lesion\"])\n",
    "print(\"Frequency of lesions: \", lowercase_freq[\"lesions\"])\n",
    "print(\"Frequency of LESION:  \", lowercase_freq[\"LESION\"])\n",
    "print(\"Frequency of LESIONS: \", lowercase_freq[\"LESIONS\"])"
   ]
  },
  {
   "cell_type": "markdown",
   "metadata": {},
   "source": [
    "### Stemming"
   ]
  },
  {
   "cell_type": "markdown",
   "metadata": {},
   "source": [
    "Stemming is the process of reducing a word to its stem.\n",
    "\n",
    "NLTK includes several off-the-shelf stemmers. In this task, we'll be using the Porter stemmer, which implements the Porter stemming algorithm. "
   ]
  },
  {
   "cell_type": "code",
   "execution_count": 38,
   "metadata": {},
   "outputs": [],
   "source": [
    "stemmer = nltk.PorterStemmer()"
   ]
  },
  {
   "cell_type": "markdown",
   "metadata": {},
   "source": [
    "Run the code in the following cell to get the stems of all tokens in the Biopsy Report.<br>\n",
    "Note that we're working with the converted lower case tokens. So all that we do here is apply *stem* on each token in *lowercase_tokens*. The resulting list of stemmed tokens (i.e. tokens where any affixes have been removed) is called *stem_tokens*. "
   ]
  },
  {
   "cell_type": "code",
   "execution_count": 40,
   "metadata": {},
   "outputs": [],
   "source": [
    "stem_tokens = lowercase_tokens\n",
    "stem_tokens[:] = [stemmer.stem(lt) for lt in lowercase_tokens]"
   ]
  },
  {
   "cell_type": "code",
   "execution_count": 42,
   "metadata": {},
   "outputs": [
    {
     "data": {
      "text/plain": [
       "['biopsi',\n",
       " 'report',\n",
       " 'name',\n",
       " ':',\n",
       " 'mr',\n",
       " 'jane',\n",
       " 'black',\n",
       " 'd.o.b',\n",
       " '.',\n",
       " ':',\n",
       " '01-01-58',\n",
       " 'hospit',\n",
       " ':',\n",
       " 'rie',\n",
       " 'pa',\n",
       " 'no',\n",
       " ':',\n",
       " '12345',\n",
       " 'ward',\n",
       " ':',\n",
       " '1',\n",
       " 'clinician',\n",
       " ':',\n",
       " 'a.',\n",
       " 'smith',\n",
       " 'special',\n",
       " ':',\n",
       " 'gener',\n",
       " 'surgeri',\n",
       " 'date',\n",
       " 'receiv',\n",
       " ':',\n",
       " '28-03-18',\n",
       " 'date',\n",
       " 'issu',\n",
       " ':',\n",
       " '30-03-18',\n",
       " 'specimen/clin',\n",
       " 'histori',\n",
       " ':',\n",
       " 'mastectomi',\n",
       " 'left',\n",
       " 'and',\n",
       " 'axillari',\n",
       " 'content',\n",
       " 'macroscop',\n",
       " 'report',\n",
       " ':',\n",
       " 'histolog',\n",
       " 'report',\n",
       " ':',\n",
       " 'gener',\n",
       " 'detail',\n",
       " 'side',\n",
       " 'left',\n",
       " 'histolog',\n",
       " 'calcif',\n",
       " 'present',\n",
       " 'specimen',\n",
       " 'radiograph',\n",
       " 'seen',\n",
       " 'ye',\n",
       " 'mammograph',\n",
       " 'abnorm',\n",
       " 'present',\n",
       " 'ye',\n",
       " 'specimen',\n",
       " 'type',\n",
       " 'mastectomi',\n",
       " 'specimen',\n",
       " 'weight',\n",
       " '1020g',\n",
       " 'benign',\n",
       " 'lesion',\n",
       " 'present',\n",
       " 'no',\n",
       " 'malign',\n",
       " 'lesion',\n",
       " 'present',\n",
       " 'ye',\n",
       " 'benign',\n",
       " 'lesion',\n",
       " 'not',\n",
       " 'present',\n",
       " 'non',\n",
       " 'invas',\n",
       " 'malign',\n",
       " 'lesion',\n",
       " 'present',\n",
       " 'invas',\n",
       " 'malign',\n",
       " 'lesion',\n",
       " 'present',\n",
       " 'type',\n",
       " 'of',\n",
       " 'invas',\n",
       " 'lesion',\n",
       " 'ductal',\n",
       " 'nst',\n",
       " 'max',\n",
       " 'diamet',\n",
       " 'invas',\n",
       " 'tumour',\n",
       " '18mm',\n",
       " 'whole',\n",
       " 'size',\n",
       " 'of',\n",
       " 'tumour',\n",
       " '18mm',\n",
       " '(',\n",
       " 'to',\n",
       " 'includ',\n",
       " 'dci',\n",
       " ')',\n",
       " 'axillari',\n",
       " 'node',\n",
       " 'present',\n",
       " 'number',\n",
       " 'involv',\n",
       " '5',\n",
       " 'total',\n",
       " 'number',\n",
       " '20',\n",
       " 'other',\n",
       " 'node',\n",
       " 'present',\n",
       " 'no',\n",
       " 'perinod',\n",
       " 'fat',\n",
       " 'extens',\n",
       " 'ye',\n",
       " 'excis',\n",
       " 'margin',\n",
       " 'doe',\n",
       " 'not',\n",
       " 'reach',\n",
       " 'margin',\n",
       " 'clearanc',\n",
       " '10mm',\n",
       " 'grade',\n",
       " 'of',\n",
       " 'tumour',\n",
       " 'ii',\n",
       " 'tubul',\n",
       " '5',\n",
       " 'nuclear',\n",
       " 'pleomorph',\n",
       " '3',\n",
       " 'mitos',\n",
       " '2',\n",
       " 'diseas',\n",
       " 'extent',\n",
       " 'localis',\n",
       " 'vascular',\n",
       " 'invas',\n",
       " 'not',\n",
       " 'seen',\n",
       " 'hormon',\n",
       " 'receptor',\n",
       " 'oestrogen',\n",
       " 'receptor',\n",
       " 'posit',\n",
       " 'quickscor',\n",
       " '20/20',\n",
       " 'progesteron',\n",
       " 'receptor',\n",
       " 'positi',\n",
       " 'quickscor',\n",
       " '20/20',\n",
       " 'comment']"
      ]
     },
     "execution_count": 42,
     "metadata": {},
     "output_type": "execute_result"
    }
   ],
   "source": [
    "stem_tokens"
   ]
  },
  {
   "cell_type": "markdown",
   "metadata": {},
   "source": [
    "Next, we'll generate the frequency distribution of *stem_tokens*, and we'll call it *stem_freq*."
   ]
  },
  {
   "cell_type": "code",
   "execution_count": 43,
   "metadata": {},
   "outputs": [],
   "source": [
    "stem_freq = nltk.FreqDist(stem_tokens)"
   ]
  },
  {
   "cell_type": "markdown",
   "metadata": {},
   "source": [
    "Now, lets print out the freqency of lesion(s)/LESION(S) as an example.  \n",
    "Note that the frequency of \"lesions\" is now 0, while the frequency of \"lesion\" is 6.  "
   ]
  },
  {
   "cell_type": "code",
   "execution_count": 44,
   "metadata": {},
   "outputs": [
    {
     "name": "stdout",
     "output_type": "stream",
     "text": [
      "Frequency of lesion:   6\n",
      "Frequency of lesions:  0\n",
      "Frequency of LESION:   0\n",
      "Frequency of LESIONS:  0\n"
     ]
    }
   ],
   "source": [
    "print(\"Frequency of lesion:  \", stem_freq[\"lesion\"])\n",
    "print(\"Frequency of lesions: \", stem_freq[\"lesions\"])\n",
    "print(\"Frequency of LESION:  \", stem_freq[\"LESION\"])\n",
    "print(\"Frequency of LESIONS: \", stem_freq[\"LESIONS\"])"
   ]
  },
  {
   "cell_type": "markdown",
   "metadata": {},
   "source": [
    "<br>\n",
    "## Part 3: Processing a Medical Note"
   ]
  },
  {
   "cell_type": "markdown",
   "metadata": {},
   "source": [
    "### Loading the data"
   ]
  },
  {
   "cell_type": "markdown",
   "metadata": {},
   "source": [
    "The Medical Note is another made-up example for the purpose of this programming task. It contains information about a patient with low back pain.\n",
    "\n",
    "Just like the Biopsy Report, the Medical Note is a Microsoft Word document (in a docx file format), so we'll use the *process* method from the docx2txt Python package to convert it into plain text. The resulting plain text is called \"content\". "
   ]
  },
  {
   "cell_type": "code",
   "execution_count": 45,
   "metadata": {},
   "outputs": [],
   "source": [
    "content = docx2txt.process(r\"D:\\MyLib.Doc\\data-science-in-healthcare-and-precision-medicine\\Medical_Note.docx\")"
   ]
  },
  {
   "cell_type": "markdown",
   "metadata": {},
   "source": [
    "Run the code in the following cell to get the first 160 characters in *content*."
   ]
  },
  {
   "cell_type": "code",
   "execution_count": 46,
   "metadata": {},
   "outputs": [
    {
     "data": {
      "text/plain": [
       "'30-year-old Caucasian male presents with low back pain for 3 days.  \\n\\n\\n\\nPatient was gardening when pain started in the low back on the left side.  Pain started '"
      ]
     },
     "execution_count": 46,
     "metadata": {},
     "output_type": "execute_result"
    }
   ],
   "source": [
    "content[:160]"
   ]
  },
  {
   "cell_type": "markdown",
   "metadata": {},
   "source": [
    "### Tokenisation"
   ]
  },
  {
   "cell_type": "markdown",
   "metadata": {},
   "source": [
    "We'll first tokenise the Medical Note content into sentences. We'll do this with the use of NLTK's *sent_tokenize* method and we'll call the resulting list of sentences *sents*."
   ]
  },
  {
   "cell_type": "code",
   "execution_count": 50,
   "metadata": {},
   "outputs": [],
   "source": [
    "sents = nltk.sent_tokenize(content)"
   ]
  },
  {
   "cell_type": "markdown",
   "metadata": {},
   "source": [
    "Run the code in the following cell to get the first 4 elements of *sents*, i.e. the first 4 sentences."
   ]
  },
  {
   "cell_type": "code",
   "execution_count": 51,
   "metadata": {},
   "outputs": [
    {
     "data": {
      "text/plain": [
       "['30-year-old Caucasian male presents with low back pain for 3 days.',\n",
       " 'Patient was gardening when pain started in the low back on the left side.',\n",
       " 'Pain started at a 9/10 and now is a 7/10.',\n",
       " 'Pain described as tight and constant.']"
      ]
     },
     "execution_count": 51,
     "metadata": {},
     "output_type": "execute_result"
    }
   ],
   "source": [
    "sents[:4]"
   ]
  },
  {
   "cell_type": "markdown",
   "metadata": {},
   "source": [
    "We next want to further tokenise the second sentence into words and punctuation. Just like with the Biopsy Report, we'll use NLTK's *word_tokenize* method. <br>\n",
    "Remember that lists in Python are 0-indexed, so the second sentence has index 1 in *sents*. <br> \n",
    "We'll call the resulting list of words and punctuation *medical_tokens*."
   ]
  },
  {
   "cell_type": "code",
   "execution_count": 52,
   "metadata": {},
   "outputs": [],
   "source": [
    "medical_tokens = nltk.word_tokenize(sents[1])"
   ]
  },
  {
   "cell_type": "markdown",
   "metadata": {},
   "source": [
    "Let's get the entire *medical_tokens* list."
   ]
  },
  {
   "cell_type": "code",
   "execution_count": 54,
   "metadata": {
    "scrolled": true
   },
   "outputs": [
    {
     "data": {
      "text/plain": [
       "['Patient',\n",
       " 'was',\n",
       " 'gardening',\n",
       " 'when',\n",
       " 'pain',\n",
       " 'started',\n",
       " 'in',\n",
       " 'the',\n",
       " 'low',\n",
       " 'back']"
      ]
     },
     "execution_count": 54,
     "metadata": {},
     "output_type": "execute_result"
    }
   ],
   "source": [
    "medical_tokens[:10]"
   ]
  },
  {
   "cell_type": "markdown",
   "metadata": {},
   "source": [
    "### Part-of-Speech Tagging"
   ]
  },
  {
   "cell_type": "markdown",
   "metadata": {},
   "source": [
    "A Part-of-speech tagger (or POS-tagger) processes a sequence of words and attaches a part of speech tag to each word.  \n",
    "\n",
    "Run the code in the following cell to use NLTK's *pos_tag()* to attach a part of speech tag to each token in the second sentence. The resulting list is called *tagged*."
   ]
  },
  {
   "cell_type": "code",
   "execution_count": 55,
   "metadata": {},
   "outputs": [],
   "source": [
    "tagged = nltk.pos_tag(medical_tokens)"
   ]
  },
  {
   "cell_type": "markdown",
   "metadata": {},
   "source": [
    "Now, let's ask for *tagged*."
   ]
  },
  {
   "cell_type": "code",
   "execution_count": 56,
   "metadata": {},
   "outputs": [
    {
     "data": {
      "text/plain": [
       "[('Patient', 'NN'),\n",
       " ('was', 'VBD'),\n",
       " ('gardening', 'VBG'),\n",
       " ('when', 'WRB'),\n",
       " ('pain', 'NN'),\n",
       " ('started', 'VBD'),\n",
       " ('in', 'IN'),\n",
       " ('the', 'DT'),\n",
       " ('low', 'JJ'),\n",
       " ('back', 'RB'),\n",
       " ('on', 'IN'),\n",
       " ('the', 'DT'),\n",
       " ('left', 'JJ'),\n",
       " ('side', 'NN'),\n",
       " ('.', '.')]"
      ]
     },
     "execution_count": 56,
     "metadata": {},
     "output_type": "execute_result"
    }
   ],
   "source": [
    "tagged"
   ]
  },
  {
   "cell_type": "markdown",
   "metadata": {},
   "source": [
    "Here you can see many different POS tags, such as \"JJ\" and \"NN\". \n",
    "\n",
    "The meaning of commonly used POS tags is provided below:\n",
    "- NN: noun \n",
    "- JJ: adjective\n",
    "- DT: determiner\n",
    "- VB: verb in base form\n",
    "- VBD: verb in past tense\n",
    "- VBG: verb in gerund/present participle\n",
    "- RB: adverb\n",
    "- WRB wh-abverb (e.g. where)\n",
    "- IN: preposition/subordinating conjunction\n",
    "- CC: coordinating conjunction (e.g. and)"
   ]
  },
  {
   "cell_type": "markdown",
   "metadata": {},
   "source": [
    "### Named Entity Recognition"
   ]
  },
  {
   "cell_type": "markdown",
   "metadata": {},
   "source": [
    "Now that we have the parts of speech, we can try named entity recognition, which is concerned with the task of finding entities in text and classifying them as persons, locations, dates, and so on.<br>\n",
    "\n",
    "NLTK provides a classifier that has already been trained to recognise named entities, and which can be accessed with the *nltk.ne_chunk()* function. We'll apply it to *tagged* and call the resulting structure *entities*."
   ]
  },
  {
   "cell_type": "code",
   "execution_count": 57,
   "metadata": {},
   "outputs": [],
   "source": [
    "entities = nltk.ne_chunk(tagged)"
   ]
  },
  {
   "cell_type": "markdown",
   "metadata": {},
   "source": [
    "Let's print out *entities*. "
   ]
  },
  {
   "cell_type": "code",
   "execution_count": 58,
   "metadata": {},
   "outputs": [
    {
     "name": "stdout",
     "output_type": "stream",
     "text": [
      "(S\n",
      "  (PERSON Patient/NN)\n",
      "  was/VBD\n",
      "  gardening/VBG\n",
      "  when/WRB\n",
      "  pain/NN\n",
      "  started/VBD\n",
      "  in/IN\n",
      "  the/DT\n",
      "  low/JJ\n",
      "  back/RB\n",
      "  on/IN\n",
      "  the/DT\n",
      "  left/JJ\n",
      "  side/NN\n",
      "  ./.)\n"
     ]
    }
   ],
   "source": [
    "print(entities)"
   ]
  },
  {
   "cell_type": "markdown",
   "metadata": {},
   "source": [
    "As we can see, \"Patient\" has been correctly classified as a Person."
   ]
  },
  {
   "cell_type": "markdown",
   "metadata": {},
   "source": [
    "<br>\n",
    "## Part 4: Keep practising"
   ]
  },
  {
   "cell_type": "markdown",
   "metadata": {},
   "source": [
    "### Quiz 4 - Question 5"
   ]
  },
  {
   "cell_type": "markdown",
   "metadata": {},
   "source": [
    "Make changes to the code below to find out how many times the word ‘malignant’ appears in the Biopsy Report.  This should include upper and lower case variations of this word – think about this carefully!  <br><br>\n",
    "Note: *freq* has been previously generated above for the programming task.  "
   ]
  },
  {
   "cell_type": "code",
   "execution_count": 59,
   "metadata": {},
   "outputs": [
    {
     "name": "stdout",
     "output_type": "stream",
     "text": [
      "Frequency of lesion:   1\n",
      "Frequency of lesions:  2\n",
      "Frequency of LESION:   0\n",
      "Frequency of LESIONS:  3\n"
     ]
    }
   ],
   "source": [
    "print(\"Frequency of lesion:  \", freq[\"lesion\"])\n",
    "print(\"Frequency of lesions: \", freq[\"lesions\"])\n",
    "print(\"Frequency of LESION:  \", freq[\"LESION\"])\n",
    "print(\"Frequency of LESIONS: \", freq[\"LESIONS\"])"
   ]
  },
  {
   "cell_type": "code",
   "execution_count": 60,
   "metadata": {},
   "outputs": [
    {
     "name": "stdout",
     "output_type": "stream",
     "text": [
      "freq of malignant 0\n",
      "freq of Malignant 1\n",
      "freq of MALIGNANT 2\n"
     ]
    }
   ],
   "source": [
    "print(\"freq of malignant\", freq['malignant'])\n",
    "print(\"freq of Malignant\", freq['Malignant'])\n",
    "print(\"freq of MALIGNANT\", freq['MALIGNANT'])\n"
   ]
  },
  {
   "cell_type": "markdown",
   "metadata": {},
   "source": [
    "### Further analysis of interest"
   ]
  },
  {
   "cell_type": "markdown",
   "metadata": {},
   "source": [
    "Why not analyse the two documents further? You could have a play with other sentences in the Medical Note document. Or you could try POS tagging for the Biopsy Report!"
   ]
  },
  {
   "cell_type": "code",
   "execution_count": 61,
   "metadata": {},
   "outputs": [],
   "source": [
    "pos_on_biopsy_report = nltk.pos_tag_sents(text)"
   ]
  },
  {
   "cell_type": "code",
   "execution_count": 64,
   "metadata": {},
   "outputs": [],
   "source": [
    "pos_on_biopsy_report2 = nltk.pos_tag(text)"
   ]
  },
  {
   "cell_type": "code",
   "execution_count": 66,
   "metadata": {},
   "outputs": [
    {
     "data": {
      "text/plain": [
       "[('B', 'NNP'),\n",
       " ('i', 'NN'),\n",
       " ('o', 'VBP'),\n",
       " ('p', 'NN'),\n",
       " ('s', 'NN'),\n",
       " ('y', 'NN'),\n",
       " (' ', 'NNP'),\n",
       " ('R', 'NNP'),\n",
       " ('e', 'NN'),\n",
       " ('p', 'NN')]"
      ]
     },
     "execution_count": 66,
     "metadata": {},
     "output_type": "execute_result"
    }
   ],
   "source": [
    "pos_on_biopsy_report2[:10]"
   ]
  },
  {
   "cell_type": "code",
   "execution_count": 67,
   "metadata": {},
   "outputs": [
    {
     "data": {
      "text/plain": [
       "[[('B', 'NN')],\n",
       " [('i', 'NN')],\n",
       " [('o', 'NN')],\n",
       " [('p', 'NN')],\n",
       " [('s', 'NN')],\n",
       " [('y', 'NN')],\n",
       " [(' ', 'NN')],\n",
       " [('R', 'NN')],\n",
       " [('e', 'NN')],\n",
       " [('p', 'NN')]]"
      ]
     },
     "execution_count": 67,
     "metadata": {},
     "output_type": "execute_result"
    }
   ],
   "source": [
    "pos_on_biopsy_report[:10]"
   ]
  },
  {
   "cell_type": "code",
   "execution_count": null,
   "metadata": {},
   "outputs": [],
   "source": []
  }
 ],
 "metadata": {
  "kernelspec": {
   "display_name": "Python 3",
   "language": "python",
   "name": "python3"
  },
  "language_info": {
   "codemirror_mode": {
    "name": "ipython",
    "version": 3
   },
   "file_extension": ".py",
   "mimetype": "text/x-python",
   "name": "python",
   "nbconvert_exporter": "python",
   "pygments_lexer": "ipython3",
   "version": "3.8.5"
  }
 },
 "nbformat": 4,
 "nbformat_minor": 1
}
